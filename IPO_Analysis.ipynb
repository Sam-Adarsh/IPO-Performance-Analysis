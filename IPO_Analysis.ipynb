{
  "nbformat": 4,
  "nbformat_minor": 0,
  "metadata": {
    "colab": {
      "provenance": []
    },
    "kernelspec": {
      "name": "python3",
      "display_name": "Python 3"
    },
    "language_info": {
      "name": "python"
    }
  },
  "cells": [
    {
      "cell_type": "markdown",
      "source": [
        "# 📊 IPO Performance Analysis (2010–2022)\n",
        "### Analyzing India's top IPOs by Listing Gains and CMP Gains using Python"
      ],
      "metadata": {
        "id": "S5_fChc2CbxH"
      }
    },
    {
      "cell_type": "markdown",
      "source": [
        "## 📌 Introduction\n",
        "\n",
        "This project analyzes Initial Public Offerings (IPOs) in India between 2010 and 2022 to identify top-performing companies.\n",
        "\n",
        "We compare IPOs based on:\n",
        "\n",
        "- **Listing Gains (%):** Returns on the day of listing compared to the issue price.\n",
        "- **CMP Gains (%):** Current Market Price returns over the issue price.\n",
        "\n",
        "The goal is to understand which companies delivered the best returns for investors in both short and long term."
      ],
      "metadata": {
        "id": "RE8AgNsBChWf"
      }
    },
    {
      "cell_type": "markdown",
      "source": [
        "# 📈 IPO Performance Analysis (India)\n",
        "\n",
        "---\n",
        "\n",
        "### 📦 Dataset Source:\n",
        "- [Kaggle IPO Dataset](https://www.kaggle.com/datasets/soumyadipghorai/all-ipo-stocks-of-moneycontrol?resource=download)\n",
        "\n",
        "### ✍️ Author:\n",
        "- Adarsh S | [GitHub Profile](https://github.com/Sam-Adarsh)"
      ],
      "metadata": {
        "id": "JsquwjslF8YN"
      }
    },
    {
      "cell_type": "markdown",
      "source": [
        "## 📂 Data Loading & Cleaning"
      ],
      "metadata": {
        "id": "1Uq8f5YHCm5F"
      }
    },
    {
      "cell_type": "code",
      "execution_count": 2,
      "metadata": {
        "colab": {
          "base_uri": "https://localhost:8080/"
        },
        "id": "5VTBSUV57Xk_",
        "outputId": "f7d29b05-aae2-4557-c56b-29306c19b597"
      },
      "outputs": [
        {
          "output_type": "stream",
          "name": "stdout",
          "text": [
            "       Date         IPO_Name  Issue_Size(crores)    QIB     HNI    RII  \\\n",
            "0  16-02-22  Vedant Fashions             3149.00   7.49    1.07   0.39   \n",
            "1  08-02-22     Adani Wilmar             3600.00   5.73   56.30   3.92   \n",
            "2  31-01-22     AGS Transact              716.87   2.68   25.61   3.08   \n",
            "3  31-12-21  CMS Info System             1100.00   1.98    1.45   2.15   \n",
            "4  28-12-21  Supriya Lifesci              700.00  31.83  161.22  56.01   \n",
            "\n",
            "   Issue_price  Listing_Open  Listing_Close  Listing_Gains(%)     CMP  \\\n",
            "0        866.0        950.00         934.85              7.95  906.75   \n",
            "1        230.0        274.00         265.20             15.30  354.35   \n",
            "2        175.0        176.00         161.30             -7.83  125.10   \n",
            "3        216.0        242.95         237.40              9.91  245.45   \n",
            "4        274.0        425.00         390.35             42.46  410.95   \n",
            "\n",
            "   Current_gains  \n",
            "0           4.71  \n",
            "1          54.07  \n",
            "2         -28.51  \n",
            "3          13.63  \n",
            "4          49.98  \n"
          ]
        }
      ],
      "source": [
        "# Required Libraries\n",
        "import pandas as pd\n",
        "import matplotlib.pyplot as plt\n",
        "import numpy as np\n",
        "\n",
        "# Load Dataset\n",
        "df = pd.read_csv(\"IPO.csv\")\n",
        "\n",
        "# Preview\n",
        "print(df.head())"
      ]
    },
    {
      "cell_type": "markdown",
      "source": [
        "## 🧹 Data Preprocessing"
      ],
      "metadata": {
        "id": "BIO0AGCODK1q"
      }
    },
    {
      "cell_type": "code",
      "source": [
        "# Date Conversion\n",
        "df['Date'] = pd.to_datetime(df['Date'], format='%d-%m-%y', errors='coerce')\n",
        "print(\"Earliest IPO Date:\", df['Date'].min().date())\n",
        "print(\"Latest IPO Date:\", df['Date'].max().date())\n",
        "\n",
        "# Clean & Convert Listing Gains\n",
        "df['Listing_Gains(%)'] = df['Listing_Gains(%)'].astype(str).str.replace('%', '', regex=False).astype(float)\n",
        "\n",
        "# Update Incorrect Issue Sizes\n",
        "fixes = {\n",
        "    'Sigachi': 125.43,\n",
        "    'Tara Jewels': 180,\n",
        "    'Electrosteel St': 200,\n",
        "    'Thangamayil': 30\n",
        "}\n",
        "\n",
        "for name, size in fixes.items():\n",
        "    df.loc[df['IPO_Name'].str.contains(name, case=False), 'Issue_Size(crores)'] = size\n",
        "\n",
        "# Flag Missing Issue Sizes\n",
        "df['Issue_Size_Flagged'] = df['Issue_Size(crores)'].apply(lambda x: 'Missing' if x == 0 else 'OK')\n",
        "\n",
        "# Numeric Conversion\n",
        "df['Issue_price'] = pd.to_numeric(df['Issue_price'], errors='coerce')\n",
        "df['Listing_Close'] = pd.to_numeric(df['Listing_Close'], errors='coerce')\n",
        "df['CMP'] = pd.to_numeric(df['CMP'], errors='coerce')\n",
        "\n",
        "# Create Performance Indicators\n",
        "df['Listing_Gain'] = df['Listing_Gains(%)'] > 0\n",
        "df['Post_Listing_Gain'] = df['CMP'] > df['Listing_Close']\n",
        "df['IPO_Overall_Profit'] = df['CMP'] > df['Issue_price']\n",
        "df['Outperformed'] = df[['Listing_Gain', 'Post_Listing_Gain', 'IPO_Overall_Profit']].all(axis=1)\n",
        "\n",
        "# Calculate CMP Gains and Absolute Gain\n",
        "df['CMP_Gains(%)'] = ((df['CMP'] - df['Issue_price']) / df['Issue_price']) * 100\n",
        "df['Absolute_Gain'] = df['CMP'] - df['Issue_price']"
      ],
      "metadata": {
        "colab": {
          "base_uri": "https://localhost:8080/"
        },
        "id": "8gbEUG2bDGml",
        "outputId": "2e1e769c-ce3d-46df-acc5-2b24437e8c9f"
      },
      "execution_count": 31,
      "outputs": [
        {
          "output_type": "stream",
          "name": "stdout",
          "text": [
            "Earliest IPO Date: 2010-02-03\n",
            "Latest IPO Date: 2022-02-16\n"
          ]
        }
      ]
    },
    {
      "cell_type": "markdown",
      "source": [
        "## 📈 Top 10 IPOs by Listing Gains (%)"
      ],
      "metadata": {
        "id": "eHZXQr8WDQN7"
      }
    },
    {
      "cell_type": "code",
      "source": [
        "# Top 10 by Listing Gains\n",
        "top_listing = df.sort_values(by='Listing_Gains(%)', ascending=False).head(10)"
      ],
      "metadata": {
        "id": "KREbo0jE8BiD"
      },
      "execution_count": 32,
      "outputs": []
    },
    {
      "cell_type": "markdown",
      "source": [
        "## 📊 Top 10 IPOs by CMP Gains (%)"
      ],
      "metadata": {
        "id": "WCRylpuRDTFH"
      }
    },
    {
      "cell_type": "code",
      "source": [
        "# Top 10 by CMP Gain\n",
        "top_cmp = df.sort_values(by='CMP_Gains(%)', ascending=False).head(10)"
      ],
      "metadata": {
        "id": "aMuoVrf5DVeU"
      },
      "execution_count": 33,
      "outputs": []
    },
    {
      "cell_type": "markdown",
      "source": [
        "## 📉 Visualizations"
      ],
      "metadata": {
        "id": "xhYHYbETDYz1"
      }
    },
    {
      "cell_type": "code",
      "source": [
        "# Plot: Listing Day Gains\n",
        "plt.figure(figsize=(12, 6))\n",
        "plt.barh(top_listing['IPO_Name'], top_listing['Listing_Gains(%)'])\n",
        "plt.xlabel(\"Listing Gains (%)\")\n",
        "plt.title(\"Top 10 IPOs by Listing Day Gains\")\n",
        "plt.gca().invert_yaxis()\n",
        "plt.grid(True, axis='x')\n",
        "plt.tight_layout()\n",
        "plt.show()"
      ],
      "metadata": {
        "colab": {
          "base_uri": "https://localhost:8080/",
          "height": 473
        },
        "id": "jIFVW-m485df",
        "outputId": "6b0d942b-5fa6-4f85-dd22-25f6edf359db"
      },
      "execution_count": 16,
      "outputs": [
        {
          "output_type": "display_data",
          "data": {
            "text/plain": [
              "<Figure size 1200x600 with 1 Axes>"
            ],
            "image/png": "[encoded data removed]"
          },
          "metadata": {}
        }
      ]
    },
    {
      "cell_type": "code",
      "source": [
        "import pandas as pd\n",
        "import matplotlib.pyplot as plt\n",
        "\n",
        "# Ensure numeric columns\n",
        "df['Issue_price'] = pd.to_numeric(df['Issue_price'], errors='coerce')\n",
        "df['CMP'] = pd.to_numeric(df['CMP'], errors='coerce')\n",
        "\n",
        "# Drop rows with missing values in either column\n",
        "df_clean = df.dropna(subset=['Issue_price', 'CMP'])\n",
        "\n",
        "# Calculate current gains\n",
        "df_clean['Current_Gain(%)'] = ((df_clean['CMP'] - df_clean['Issue_price']) / df_clean['Issue_price']) * 100\n",
        "\n",
        "# Sort top 10 by current gain\n",
        "top_10_current_gain = df_clean.sort_values(by='Current_Gain(%)', ascending=False).head(10)\n",
        "\n",
        "# Plotting\n",
        "plt.figure(figsize=(12, 6))\n",
        "bars = plt.bar(top_10_current_gain['IPO_Name'], top_10_current_gain['Current_Gain(%)'], color='skyblue')\n",
        "plt.xticks(rotation=45, ha='right')\n",
        "plt.ylabel('Current Gain (%)')\n",
        "plt.title('Top 10 IPOs by Current Gains over Issue Price')\n",
        "\n",
        "# Add value labels on bars\n",
        "for bar in bars:\n",
        "    yval = bar.get_height()\n",
        "    plt.text(bar.get_x() + bar.get_width()/2.0, yval, f'{yval:.1f}%', ha='center', va='bottom')\n",
        "\n",
        "plt.tight_layout()\n",
        "plt.show()"
      ],
      "metadata": {
        "colab": {
          "base_uri": "https://localhost:8080/",
          "height": 595
        },
        "id": "aYGF-5ce8Esk",
        "outputId": "099dae2d-d852-47e9-9697-925165c26b73"
      },
      "execution_count": 17,
      "outputs": [
        {
          "output_type": "stream",
          "name": "stderr",
          "text": [
            "/tmp/ipython-input-2284154810.py:12: SettingWithCopyWarning: \n",
            "A value is trying to be set on a copy of a slice from a DataFrame.\n",
            "Try using .loc[row_indexer,col_indexer] = value instead\n",
            "\n",
            "See the caveats in the documentation: https://pandas.pydata.org/pandas-docs/stable/user_guide/indexing.html#returning-a-view-versus-a-copy\n",
            "  df_clean['Current_Gain(%)'] = ((df_clean['CMP'] - df_clean['Issue_price']) / df_clean['Issue_price']) * 100\n"
          ]
        },
        {
          "output_type": "display_data",
          "data": {
            "text/plain": [
              "<Figure size 1200x600 with 1 Axes>"
            ],
            "image/png": "[encoded data removed]"
          },
          "metadata": {}
        }
      ]
    },
    {
      "cell_type": "code",
      "source": [
        "# Plot: Overall CMP Gains\n",
        "top_cmp_gain = df.sort_values(by='CMP_Gains(%)', ascending=False).head(10)\n",
        "plt.figure(figsize=(10, 6))\n",
        "plt.barh(top_cmp_gain['IPO_Name'], top_cmp_gain['CMP_Gains(%)'])\n",
        "plt.title(\"Top 10 IPOs by Overall Gain from Issue Price to CMP\")\n",
        "plt.xlabel(\"Overall Gain (%)\")\n",
        "plt.ylabel(\"Company\")\n",
        "plt.gca().invert_yaxis()\n",
        "plt.grid(True)\n",
        "plt.tight_layout()\n",
        "plt.show()"
      ],
      "metadata": {
        "colab": {
          "base_uri": "https://localhost:8080/",
          "height": 565
        },
        "id": "smk_2mJd8IB6",
        "outputId": "08a6cf93-7aab-4c6b-b526-d7bb3f12ba3b"
      },
      "execution_count": 8,
      "outputs": [
        {
          "output_type": "display_data",
          "data": {
            "text/plain": [
              "<Figure size 1000x600 with 1 Axes>"
            ],
            "image/png": "[encoded data removed]"
          },
          "metadata": {}
        }
      ]
    },
    {
      "cell_type": "code",
      "source": [
        "# Tables\n",
        "print(\"Top 10 IPOs by Listing Gains (%)\")\n",
        "display(top_listing[['Date', 'IPO_Name', 'Issue_Size(crores)', 'Listing_Gains(%)', 'CMP']])"
      ],
      "metadata": {
        "colab": {
          "base_uri": "https://localhost:8080/",
          "height": 376
        },
        "id": "xqXa_nUi8V-K",
        "outputId": "0513869d-32f7-46f7-d059-4aab4a2f114f"
      },
      "execution_count": 29,
      "outputs": [
        {
          "output_type": "stream",
          "name": "stdout",
          "text": [
            "Top 10 IPOs by Listing Gains (%)\n"
          ]
        },
        {
          "output_type": "display_data",
          "data": {
            "text/plain": [
              "          Date         IPO_Name  Issue_Size(crores)  Listing_Gains(%)     CMP\n",
              "20  2021-11-15      Sigachi Ind              125.43            270.40  319.70\n",
              "24  2021-10-01    Paras Defence              181.13            185.00  654.55\n",
              "224 2011-07-07    Birla Pacific               65.18            153.50    0.28\n",
              "129 2017-07-25  Salasar Techno                35.87            151.94  215.75\n",
              "15  2021-11-23      Latent View              622.11            148.02  476.90\n",
              "109 2017-12-29  Astron Paper &                70.00            139.40   44.55\n",
              "67  2020-12-14  Restaurant Bran              796.50            130.67  127.65\n",
              "76  2020-09-17  Happiest Minds               702.02            123.49     NaN\n",
              "141 2017-03-21  Avenue Supermar             1870.00            114.30     NaN\n",
              "38  2021-07-29    Tatva Chintan              500.00            113.32     NaN"
            ],
            "text/html": [
              "\n",
              "  <div id=\"df-0f783a7e-2bf2-4ff6-a749-036dace4e215\" class=\"colab-df-container\">\n",
              "    <div>\n",
              "<style scoped>\n",
              "    .dataframe tbody tr th:only-of-type {\n",
              "        vertical-align: middle;\n",
              "    }\n",
              "\n",
              "    .dataframe tbody tr th {\n",
              "        vertical-align: top;\n",
              "    }\n",
              "\n",
              "    .dataframe thead th {\n",
              "        text-align: right;\n",
              "    }\n",
              "</style>\n",
              "<table border=\"1\" class=\"dataframe\">\n",
              "  <thead>\n",
              "    <tr style=\"text-align: right;\">\n",
              "      <th></th>\n",
              "      <th>Date</th>\n",
              "      <th>IPO_Name</th>\n",
              "      <th>Issue_Size(crores)</th>\n",
              "      <th>Listing_Gains(%)</th>\n",
              "      <th>CMP</th>\n",
              "    </tr>\n",
              "  </thead>\n",
              "  <tbody>\n",
              "    <tr>\n",
              "      <th>20</th>\n",
              "      <td>2021-11-15</td>\n",
              "      <td>Sigachi Ind</td>\n",
              "      <td>125.43</td>\n",
              "      <td>270.40</td>\n",
              "      <td>319.70</td>\n",
              "    </tr>\n",
              "    <tr>\n",
              "      <th>24</th>\n",
              "      <td>2021-10-01</td>\n",
              "      <td>Paras Defence</td>\n",
              "      <td>181.13</td>\n",
              "      <td>185.00</td>\n",
              "      <td>654.55</td>\n",
              "    </tr>\n",
              "    <tr>\n",
              "      <th>224</th>\n",
              "      <td>2011-07-07</td>\n",
              "      <td>Birla Pacific</td>\n",
              "      <td>65.18</td>\n",
              "      <td>153.50</td>\n",
              "      <td>0.28</td>\n",
              "    </tr>\n",
              "    <tr>\n",
              "      <th>129</th>\n",
              "      <td>2017-07-25</td>\n",
              "      <td>Salasar Techno</td>\n",
              "      <td>35.87</td>\n",
              "      <td>151.94</td>\n",
              "      <td>215.75</td>\n",
              "    </tr>\n",
              "    <tr>\n",
              "      <th>15</th>\n",
              "      <td>2021-11-23</td>\n",
              "      <td>Latent View</td>\n",
              "      <td>622.11</td>\n",
              "      <td>148.02</td>\n",
              "      <td>476.90</td>\n",
              "    </tr>\n",
              "    <tr>\n",
              "      <th>109</th>\n",
              "      <td>2017-12-29</td>\n",
              "      <td>Astron Paper &amp;</td>\n",
              "      <td>70.00</td>\n",
              "      <td>139.40</td>\n",
              "      <td>44.55</td>\n",
              "    </tr>\n",
              "    <tr>\n",
              "      <th>67</th>\n",
              "      <td>2020-12-14</td>\n",
              "      <td>Restaurant Bran</td>\n",
              "      <td>796.50</td>\n",
              "      <td>130.67</td>\n",
              "      <td>127.65</td>\n",
              "    </tr>\n",
              "    <tr>\n",
              "      <th>76</th>\n",
              "      <td>2020-09-17</td>\n",
              "      <td>Happiest Minds</td>\n",
              "      <td>702.02</td>\n",
              "      <td>123.49</td>\n",
              "      <td>NaN</td>\n",
              "    </tr>\n",
              "    <tr>\n",
              "      <th>141</th>\n",
              "      <td>2017-03-21</td>\n",
              "      <td>Avenue Supermar</td>\n",
              "      <td>1870.00</td>\n",
              "      <td>114.30</td>\n",
              "      <td>NaN</td>\n",
              "    </tr>\n",
              "    <tr>\n",
              "      <th>38</th>\n",
              "      <td>2021-07-29</td>\n",
              "      <td>Tatva Chintan</td>\n",
              "      <td>500.00</td>\n",
              "      <td>113.32</td>\n",
              "      <td>NaN</td>\n",
              "    </tr>\n",
              "  </tbody>\n",
              "</table>\n",
              "</div>\n",
              "    <div class=\"colab-df-buttons\">\n",
              "\n",
              "  <div class=\"colab-df-container\">\n",
              "    <button class=\"colab-df-convert\" onclick=\"convertToInteractive('df-0f783a7e-2bf2-4ff6-a749-036dace4e215')\"\n",
              "            title=\"Convert this dataframe to an interactive table.\"\n",
              "            style=\"display:none;\">\n",
              "\n",
              "  <svg xmlns=\"http://www.w3.org/2000/svg\" height=\"24px\" viewBox=\"0 -960 960 960\">\n",
              "    <path d=\"M120-120v-720h720v720H120Zm60-500h600v-160H180v160Zm220 220h160v-160H400v160Zm0 220h160v-160H400v160ZM180-400h160v-160H180v160Zm440 0h160v-160H620v160ZM180-180h160v-160H180v160Zm440 0h160v-160H620v160Z\"/>\n",
              "  </svg>\n",
              "    </button>\n",
              "\n",
              "  <style>\n",
              "    .colab-df-container {\n",
              "      display:flex;\n",
              "      gap: 12px;\n",
              "    }\n",
              "\n",
              "    .colab-df-convert {\n",
              "      background-color: #E8F0FE;\n",
              "      border: none;\n",
              "      border-radius: 50%;\n",
              "      cursor: pointer;\n",
              "      display: none;\n",
              "      fill: #1967D2;\n",
              "      height: 32px;\n",
              "      padding: 0 0 0 0;\n",
              "      width: 32px;\n",
              "    }\n",
              "\n",
              "    .colab-df-convert:hover {\n",
              "      background-color: #E2EBFA;\n",
              "      box-shadow: 0px 1px 2px rgba(60, 64, 67, 0.3), 0px 1px 3px 1px rgba(60, 64, 67, 0.15);\n",
              "      fill: #174EA6;\n",
              "    }\n",
              "\n",
              "    .colab-df-buttons div {\n",
              "      margin-bottom: 4px;\n",
              "    }\n",
              "\n",
              "    [theme=dark] .colab-df-convert {\n",
              "      background-color: #3B4455;\n",
              "      fill: #D2E3FC;\n",
              "    }\n",
              "\n",
              "    [theme=dark] .colab-df-convert:hover {\n",
              "      background-color: #434B5C;\n",
              "      box-shadow: 0px 1px 3px 1px rgba(0, 0, 0, 0.15);\n",
              "      filter: drop-shadow(0px 1px 2px rgba(0, 0, 0, 0.3));\n",
              "      fill: #FFFFFF;\n",
              "    }\n",
              "  </style>\n",
              "\n",
              "    <script>\n",
              "      const buttonEl =\n",
              "        document.querySelector('#df-0f783a7e-2bf2-4ff6-a749-036dace4e215 button.colab-df-convert');\n",
              "      buttonEl.style.display =\n",
              "        google.colab.kernel.accessAllowed ? 'block' : 'none';\n",
              "\n",
              "      async function convertToInteractive(key) {\n",
              "        const element = document.querySelector('#df-0f783a7e-2bf2-4ff6-a749-036dace4e215');\n",
              "        const dataTable =\n",
              "          await google.colab.kernel.invokeFunction('convertToInteractive',\n",
              "                                                    [key], {});\n",
              "        if (!dataTable) return;\n",
              "\n",
              "        const docLinkHtml = 'Like what you see? Visit the ' +\n",
              "          '<a target=\"_blank\" href=https://colab.research.google.com/notebooks/data_table.ipynb>data table notebook</a>'\n",
              "          + ' to learn more about interactive tables.';\n",
              "        element.innerHTML = '';\n",
              "        dataTable['output_type'] = 'display_data';\n",
              "        await google.colab.output.renderOutput(dataTable, element);\n",
              "        const docLink = document.createElement('div');\n",
              "        docLink.innerHTML = docLinkHtml;\n",
              "        element.appendChild(docLink);\n",
              "      }\n",
              "    </script>\n",
              "  </div>\n",
              "\n",
              "\n",
              "    <div id=\"df-0eb05ac5-0e7a-41f6-91be-ef30075ca271\">\n",
              "      <button class=\"colab-df-quickchart\" onclick=\"quickchart('df-0eb05ac5-0e7a-41f6-91be-ef30075ca271')\"\n",
              "                title=\"Suggest charts\"\n",
              "                style=\"display:none;\">\n",
              "\n",
              "<svg xmlns=\"http://www.w3.org/2000/svg\" height=\"24px\"viewBox=\"0 0 24 24\"\n",
              "     width=\"24px\">\n",
              "    <g>\n",
              "        <path d=\"M19 3H5c-1.1 0-2 .9-2 2v14c0 1.1.9 2 2 2h14c1.1 0 2-.9 2-2V5c0-1.1-.9-2-2-2zM9 17H7v-7h2v7zm4 0h-2V7h2v10zm4 0h-2v-4h2v4z\"/>\n",
              "    </g>\n",
              "</svg>\n",
              "      </button>\n",
              "\n",
              "<style>\n",
              "  .colab-df-quickchart {\n",
              "      --bg-color: #E8F0FE;\n",
              "      --fill-color: #1967D2;\n",
              "      --hover-bg-color: #E2EBFA;\n",
              "      --hover-fill-color: #174EA6;\n",
              "      --disabled-fill-color: #AAA;\n",
              "      --disabled-bg-color: #DDD;\n",
              "  }\n",
              "\n",
              "  [theme=dark] .colab-df-quickchart {\n",
              "      --bg-color: #3B4455;\n",
              "      --fill-color: #D2E3FC;\n",
              "      --hover-bg-color: #434B5C;\n",
              "      --hover-fill-color: #FFFFFF;\n",
              "      --disabled-bg-color: #3B4455;\n",
              "      --disabled-fill-color: #666;\n",
              "  }\n",
              "\n",
              "  .colab-df-quickchart {\n",
              "    background-color: var(--bg-color);\n",
              "    border: none;\n",
              "    border-radius: 50%;\n",
              "    cursor: pointer;\n",
              "    display: none;\n",
              "    fill: var(--fill-color);\n",
              "    height: 32px;\n",
              "    padding: 0;\n",
              "    width: 32px;\n",
              "  }\n",
              "\n",
              "  .colab-df-quickchart:hover {\n",
              "    background-color: var(--hover-bg-color);\n",
              "    box-shadow: 0 1px 2px rgba(60, 64, 67, 0.3), 0 1px 3px 1px rgba(60, 64, 67, 0.15);\n",
              "    fill: var(--button-hover-fill-color);\n",
              "  }\n",
              "\n",
              "  .colab-df-quickchart-complete:disabled,\n",
              "  .colab-df-quickchart-complete:disabled:hover {\n",
              "    background-color: var(--disabled-bg-color);\n",
              "    fill: var(--disabled-fill-color);\n",
              "    box-shadow: none;\n",
              "  }\n",
              "\n",
              "  .colab-df-spinner {\n",
              "    border: 2px solid var(--fill-color);\n",
              "    border-color: transparent;\n",
              "    border-bottom-color: var(--fill-color);\n",
              "    animation:\n",
              "      spin 1s steps(1) infinite;\n",
              "  }\n",
              "\n",
              "  @keyframes spin {\n",
              "    0% {\n",
              "      border-color: transparent;\n",
              "      border-bottom-color: var(--fill-color);\n",
              "      border-left-color: var(--fill-color);\n",
              "    }\n",
              "    20% {\n",
              "      border-color: transparent;\n",
              "      border-left-color: var(--fill-color);\n",
              "      border-top-color: var(--fill-color);\n",
              "    }\n",
              "    30% {\n",
              "      border-color: transparent;\n",
              "      border-left-color: var(--fill-color);\n",
              "      border-top-color: var(--fill-color);\n",
              "      border-right-color: var(--fill-color);\n",
              "    }\n",
              "    40% {\n",
              "      border-color: transparent;\n",
              "      border-right-color: var(--fill-color);\n",
              "      border-top-color: var(--fill-color);\n",
              "    }\n",
              "    60% {\n",
              "      border-color: transparent;\n",
              "      border-right-color: var(--fill-color);\n",
              "    }\n",
              "    80% {\n",
              "      border-color: transparent;\n",
              "      border-right-color: var(--fill-color);\n",
              "      border-bottom-color: var(--fill-color);\n",
              "    }\n",
              "    90% {\n",
              "      border-color: transparent;\n",
              "      border-bottom-color: var(--fill-color);\n",
              "    }\n",
              "  }\n",
              "</style>\n",
              "\n",
              "      <script>\n",
              "        async function quickchart(key) {\n",
              "          const quickchartButtonEl =\n",
              "            document.querySelector('#' + key + ' button');\n",
              "          quickchartButtonEl.disabled = true;  // To prevent multiple clicks.\n",
              "          quickchartButtonEl.classList.add('colab-df-spinner');\n",
              "          try {\n",
              "            const charts = await google.colab.kernel.invokeFunction(\n",
              "                'suggestCharts', [key], {});\n",
              "          } catch (error) {\n",
              "            console.error('Error during call to suggestCharts:', error);\n",
              "          }\n",
              "          quickchartButtonEl.classList.remove('colab-df-spinner');\n",
              "          quickchartButtonEl.classList.add('colab-df-quickchart-complete');\n",
              "        }\n",
              "        (() => {\n",
              "          let quickchartButtonEl =\n",
              "            document.querySelector('#df-0eb05ac5-0e7a-41f6-91be-ef30075ca271 button');\n",
              "          quickchartButtonEl.style.display =\n",
              "            google.colab.kernel.accessAllowed ? 'block' : 'none';\n",
              "        })();\n",
              "      </script>\n",
              "    </div>\n",
              "\n",
              "    </div>\n",
              "  </div>\n"
            ],
            "application/vnd.google.colaboratory.intrinsic+json": {
              "type": "dataframe",
              "summary": "{\n  \"name\": \"display(top_listing[['Date', 'IPO_Name', 'Issue_Size(crores)', 'Listing_Gains(%)', 'CMP']])\",\n  \"rows\": 10,\n  \"fields\": [\n    {\n      \"column\": \"Date\",\n      \"properties\": {\n        \"dtype\": \"date\",\n        \"min\": \"2011-07-07 00:00:00\",\n        \"max\": \"2021-11-23 00:00:00\",\n        \"num_unique_values\": 10,\n        \"samples\": [\n          \"2017-03-21 00:00:00\",\n          \"2021-10-01 00:00:00\",\n          \"2017-12-29 00:00:00\"\n        ],\n        \"semantic_type\": \"\",\n        \"description\": \"\"\n      }\n    },\n    {\n      \"column\": \"IPO_Name\",\n      \"properties\": {\n        \"dtype\": \"string\",\n        \"num_unique_values\": 10,\n        \"samples\": [\n          \"Avenue Supermar\",\n          \"Paras Defence\",\n          \"Astron Paper & \"\n        ],\n        \"semantic_type\": \"\",\n        \"description\": \"\"\n      }\n    },\n    {\n      \"column\": \"Issue_Size(crores)\",\n      \"properties\": {\n        \"dtype\": \"number\",\n        \"std\": 562.9091266546591,\n        \"min\": 35.87,\n        \"max\": 1870.0,\n        \"num_unique_values\": 10,\n        \"samples\": [\n          1870.0,\n          181.13,\n          70.0\n        ],\n        \"semantic_type\": \"\",\n        \"description\": \"\"\n      }\n    },\n    {\n      \"column\": \"Listing_Gains(%)\",\n      \"properties\": {\n        \"dtype\": \"number\",\n        \"std\": 46.499169932854116,\n        \"min\": 113.32,\n        \"max\": 270.4,\n        \"num_unique_values\": 10,\n        \"samples\": [\n          114.3,\n          185.0,\n          139.4\n        ],\n        \"semantic_type\": \"\",\n        \"description\": \"\"\n      }\n    },\n    {\n      \"column\": \"CMP\",\n      \"properties\": {\n        \"dtype\": \"number\",\n        \"std\": 237.89826729287537,\n        \"min\": 0.28,\n        \"max\": 654.55,\n        \"num_unique_values\": 7,\n        \"samples\": [\n          319.7,\n          654.55,\n          44.55\n        ],\n        \"semantic_type\": \"\",\n        \"description\": \"\"\n      }\n    }\n  ]\n}"
            }
          },
          "metadata": {}
        }
      ]
    },
    {
      "cell_type": "code",
      "source": [
        "print(\"\\nTop 10 IPOs by CMP Gains (%)\")\n",
        "display(top_cmp[['Date', 'IPO_Name', 'Issue_Size(crores)', 'CMP_Gains(%)', 'CMP']])"
      ],
      "metadata": {
        "colab": {
          "base_uri": "https://localhost:8080/",
          "height": 393
        },
        "id": "7PT1y7AZBVqx",
        "outputId": "3698ec5a-68a5-4692-975c-11bbe9a88b11"
      },
      "execution_count": 30,
      "outputs": [
        {
          "output_type": "stream",
          "name": "stdout",
          "text": [
            "\n",
            "Top 10 IPOs by CMP Gains (%)\n"
          ]
        },
        {
          "output_type": "display_data",
          "data": {
            "text/plain": [
              "          Date         IPO_Name  Issue_Size(crores)  CMP_Gains(%)     CMP\n",
              "99  2018-04-04  Mishra Dhatu Ni              438.38           inf  175.45\n",
              "258 2010-10-12  Cantabil Retail              105.00    573.592593  909.35\n",
              "223 2011-07-07     Rushil Decor               40.64    462.361111  404.90\n",
              "91  2019-02-04  Xelpmoc Design                23.00    364.621212  306.65\n",
              "207 2011-11-02   Indo Thai Secu               33.60    310.810811  304.00\n",
              "79  2019-12-30     Prince Pipes              500.00    276.685393  670.50\n",
              "24  2021-10-01    Paras Defence              181.13    274.028571  654.55\n",
              "177 2015-09-10    Shree Pushkar               70.00    262.461538  235.60\n",
              "191 2014-09-23      Sharda Crop              352.00    258.717949  559.60\n",
              "265 2010-10-05     Sasta Sundar              147.50    244.915254  407.00"
            ],
            "text/html": [
              "\n",
              "  <div id=\"df-1a6787ce-1958-4f56-8c4f-57eaa23ca0f6\" class=\"colab-df-container\">\n",
              "    <div>\n",
              "<style scoped>\n",
              "    .dataframe tbody tr th:only-of-type {\n",
              "        vertical-align: middle;\n",
              "    }\n",
              "\n",
              "    .dataframe tbody tr th {\n",
              "        vertical-align: top;\n",
              "    }\n",
              "\n",
              "    .dataframe thead th {\n",
              "        text-align: right;\n",
              "    }\n",
              "</style>\n",
              "<table border=\"1\" class=\"dataframe\">\n",
              "  <thead>\n",
              "    <tr style=\"text-align: right;\">\n",
              "      <th></th>\n",
              "      <th>Date</th>\n",
              "      <th>IPO_Name</th>\n",
              "      <th>Issue_Size(crores)</th>\n",
              "      <th>CMP_Gains(%)</th>\n",
              "      <th>CMP</th>\n",
              "    </tr>\n",
              "  </thead>\n",
              "  <tbody>\n",
              "    <tr>\n",
              "      <th>99</th>\n",
              "      <td>2018-04-04</td>\n",
              "      <td>Mishra Dhatu Ni</td>\n",
              "      <td>438.38</td>\n",
              "      <td>inf</td>\n",
              "      <td>175.45</td>\n",
              "    </tr>\n",
              "    <tr>\n",
              "      <th>258</th>\n",
              "      <td>2010-10-12</td>\n",
              "      <td>Cantabil Retail</td>\n",
              "      <td>105.00</td>\n",
              "      <td>573.592593</td>\n",
              "      <td>909.35</td>\n",
              "    </tr>\n",
              "    <tr>\n",
              "      <th>223</th>\n",
              "      <td>2011-07-07</td>\n",
              "      <td>Rushil Decor</td>\n",
              "      <td>40.64</td>\n",
              "      <td>462.361111</td>\n",
              "      <td>404.90</td>\n",
              "    </tr>\n",
              "    <tr>\n",
              "      <th>91</th>\n",
              "      <td>2019-02-04</td>\n",
              "      <td>Xelpmoc Design</td>\n",
              "      <td>23.00</td>\n",
              "      <td>364.621212</td>\n",
              "      <td>306.65</td>\n",
              "    </tr>\n",
              "    <tr>\n",
              "      <th>207</th>\n",
              "      <td>2011-11-02</td>\n",
              "      <td>Indo Thai Secu</td>\n",
              "      <td>33.60</td>\n",
              "      <td>310.810811</td>\n",
              "      <td>304.00</td>\n",
              "    </tr>\n",
              "    <tr>\n",
              "      <th>79</th>\n",
              "      <td>2019-12-30</td>\n",
              "      <td>Prince Pipes</td>\n",
              "      <td>500.00</td>\n",
              "      <td>276.685393</td>\n",
              "      <td>670.50</td>\n",
              "    </tr>\n",
              "    <tr>\n",
              "      <th>24</th>\n",
              "      <td>2021-10-01</td>\n",
              "      <td>Paras Defence</td>\n",
              "      <td>181.13</td>\n",
              "      <td>274.028571</td>\n",
              "      <td>654.55</td>\n",
              "    </tr>\n",
              "    <tr>\n",
              "      <th>177</th>\n",
              "      <td>2015-09-10</td>\n",
              "      <td>Shree Pushkar</td>\n",
              "      <td>70.00</td>\n",
              "      <td>262.461538</td>\n",
              "      <td>235.60</td>\n",
              "    </tr>\n",
              "    <tr>\n",
              "      <th>191</th>\n",
              "      <td>2014-09-23</td>\n",
              "      <td>Sharda Crop</td>\n",
              "      <td>352.00</td>\n",
              "      <td>258.717949</td>\n",
              "      <td>559.60</td>\n",
              "    </tr>\n",
              "    <tr>\n",
              "      <th>265</th>\n",
              "      <td>2010-10-05</td>\n",
              "      <td>Sasta Sundar</td>\n",
              "      <td>147.50</td>\n",
              "      <td>244.915254</td>\n",
              "      <td>407.00</td>\n",
              "    </tr>\n",
              "  </tbody>\n",
              "</table>\n",
              "</div>\n",
              "    <div class=\"colab-df-buttons\">\n",
              "\n",
              "  <div class=\"colab-df-container\">\n",
              "    <button class=\"colab-df-convert\" onclick=\"convertToInteractive('df-1a6787ce-1958-4f56-8c4f-57eaa23ca0f6')\"\n",
              "            title=\"Convert this dataframe to an interactive table.\"\n",
              "            style=\"display:none;\">\n",
              "\n",
              "  <svg xmlns=\"http://www.w3.org/2000/svg\" height=\"24px\" viewBox=\"0 -960 960 960\">\n",
              "    <path d=\"M120-120v-720h720v720H120Zm60-500h600v-160H180v160Zm220 220h160v-160H400v160Zm0 220h160v-160H400v160ZM180-400h160v-160H180v160Zm440 0h160v-160H620v160ZM180-180h160v-160H180v160Zm440 0h160v-160H620v160Z\"/>\n",
              "  </svg>\n",
              "    </button>\n",
              "\n",
              "  <style>\n",
              "    .colab-df-container {\n",
              "      display:flex;\n",
              "      gap: 12px;\n",
              "    }\n",
              "\n",
              "    .colab-df-convert {\n",
              "      background-color: #E8F0FE;\n",
              "      border: none;\n",
              "      border-radius: 50%;\n",
              "      cursor: pointer;\n",
              "      display: none;\n",
              "      fill: #1967D2;\n",
              "      height: 32px;\n",
              "      padding: 0 0 0 0;\n",
              "      width: 32px;\n",
              "    }\n",
              "\n",
              "    .colab-df-convert:hover {\n",
              "      background-color: #E2EBFA;\n",
              "      box-shadow: 0px 1px 2px rgba(60, 64, 67, 0.3), 0px 1px 3px 1px rgba(60, 64, 67, 0.15);\n",
              "      fill: #174EA6;\n",
              "    }\n",
              "\n",
              "    .colab-df-buttons div {\n",
              "      margin-bottom: 4px;\n",
              "    }\n",
              "\n",
              "    [theme=dark] .colab-df-convert {\n",
              "      background-color: #3B4455;\n",
              "      fill: #D2E3FC;\n",
              "    }\n",
              "\n",
              "    [theme=dark] .colab-df-convert:hover {\n",
              "      background-color: #434B5C;\n",
              "      box-shadow: 0px 1px 3px 1px rgba(0, 0, 0, 0.15);\n",
              "      filter: drop-shadow(0px 1px 2px rgba(0, 0, 0, 0.3));\n",
              "      fill: #FFFFFF;\n",
              "    }\n",
              "  </style>\n",
              "\n",
              "    <script>\n",
              "      const buttonEl =\n",
              "        document.querySelector('#df-1a6787ce-1958-4f56-8c4f-57eaa23ca0f6 button.colab-df-convert');\n",
              "      buttonEl.style.display =\n",
              "        google.colab.kernel.accessAllowed ? 'block' : 'none';\n",
              "\n",
              "      async function convertToInteractive(key) {\n",
              "        const element = document.querySelector('#df-1a6787ce-1958-4f56-8c4f-57eaa23ca0f6');\n",
              "        const dataTable =\n",
              "          await google.colab.kernel.invokeFunction('convertToInteractive',\n",
              "                                                    [key], {});\n",
              "        if (!dataTable) return;\n",
              "\n",
              "        const docLinkHtml = 'Like what you see? Visit the ' +\n",
              "          '<a target=\"_blank\" href=https://colab.research.google.com/notebooks/data_table.ipynb>data table notebook</a>'\n",
              "          + ' to learn more about interactive tables.';\n",
              "        element.innerHTML = '';\n",
              "        dataTable['output_type'] = 'display_data';\n",
              "        await google.colab.output.renderOutput(dataTable, element);\n",
              "        const docLink = document.createElement('div');\n",
              "        docLink.innerHTML = docLinkHtml;\n",
              "        element.appendChild(docLink);\n",
              "      }\n",
              "    </script>\n",
              "  </div>\n",
              "\n",
              "\n",
              "    <div id=\"df-615440c8-0cd4-40dd-a417-f502e4c727ed\">\n",
              "      <button class=\"colab-df-quickchart\" onclick=\"quickchart('df-615440c8-0cd4-40dd-a417-f502e4c727ed')\"\n",
              "                title=\"Suggest charts\"\n",
              "                style=\"display:none;\">\n",
              "\n",
              "<svg xmlns=\"http://www.w3.org/2000/svg\" height=\"24px\"viewBox=\"0 0 24 24\"\n",
              "     width=\"24px\">\n",
              "    <g>\n",
              "        <path d=\"M19 3H5c-1.1 0-2 .9-2 2v14c0 1.1.9 2 2 2h14c1.1 0 2-.9 2-2V5c0-1.1-.9-2-2-2zM9 17H7v-7h2v7zm4 0h-2V7h2v10zm4 0h-2v-4h2v4z\"/>\n",
              "    </g>\n",
              "</svg>\n",
              "      </button>\n",
              "\n",
              "<style>\n",
              "  .colab-df-quickchart {\n",
              "      --bg-color: #E8F0FE;\n",
              "      --fill-color: #1967D2;\n",
              "      --hover-bg-color: #E2EBFA;\n",
              "      --hover-fill-color: #174EA6;\n",
              "      --disabled-fill-color: #AAA;\n",
              "      --disabled-bg-color: #DDD;\n",
              "  }\n",
              "\n",
              "  [theme=dark] .colab-df-quickchart {\n",
              "      --bg-color: #3B4455;\n",
              "      --fill-color: #D2E3FC;\n",
              "      --hover-bg-color: #434B5C;\n",
              "      --hover-fill-color: #FFFFFF;\n",
              "      --disabled-bg-color: #3B4455;\n",
              "      --disabled-fill-color: #666;\n",
              "  }\n",
              "\n",
              "  .colab-df-quickchart {\n",
              "    background-color: var(--bg-color);\n",
              "    border: none;\n",
              "    border-radius: 50%;\n",
              "    cursor: pointer;\n",
              "    display: none;\n",
              "    fill: var(--fill-color);\n",
              "    height: 32px;\n",
              "    padding: 0;\n",
              "    width: 32px;\n",
              "  }\n",
              "\n",
              "  .colab-df-quickchart:hover {\n",
              "    background-color: var(--hover-bg-color);\n",
              "    box-shadow: 0 1px 2px rgba(60, 64, 67, 0.3), 0 1px 3px 1px rgba(60, 64, 67, 0.15);\n",
              "    fill: var(--button-hover-fill-color);\n",
              "  }\n",
              "\n",
              "  .colab-df-quickchart-complete:disabled,\n",
              "  .colab-df-quickchart-complete:disabled:hover {\n",
              "    background-color: var(--disabled-bg-color);\n",
              "    fill: var(--disabled-fill-color);\n",
              "    box-shadow: none;\n",
              "  }\n",
              "\n",
              "  .colab-df-spinner {\n",
              "    border: 2px solid var(--fill-color);\n",
              "    border-color: transparent;\n",
              "    border-bottom-color: var(--fill-color);\n",
              "    animation:\n",
              "      spin 1s steps(1) infinite;\n",
              "  }\n",
              "\n",
              "  @keyframes spin {\n",
              "    0% {\n",
              "      border-color: transparent;\n",
              "      border-bottom-color: var(--fill-color);\n",
              "      border-left-color: var(--fill-color);\n",
              "    }\n",
              "    20% {\n",
              "      border-color: transparent;\n",
              "      border-left-color: var(--fill-color);\n",
              "      border-top-color: var(--fill-color);\n",
              "    }\n",
              "    30% {\n",
              "      border-color: transparent;\n",
              "      border-left-color: var(--fill-color);\n",
              "      border-top-color: var(--fill-color);\n",
              "      border-right-color: var(--fill-color);\n",
              "    }\n",
              "    40% {\n",
              "      border-color: transparent;\n",
              "      border-right-color: var(--fill-color);\n",
              "      border-top-color: var(--fill-color);\n",
              "    }\n",
              "    60% {\n",
              "      border-color: transparent;\n",
              "      border-right-color: var(--fill-color);\n",
              "    }\n",
              "    80% {\n",
              "      border-color: transparent;\n",
              "      border-right-color: var(--fill-color);\n",
              "      border-bottom-color: var(--fill-color);\n",
              "    }\n",
              "    90% {\n",
              "      border-color: transparent;\n",
              "      border-bottom-color: var(--fill-color);\n",
              "    }\n",
              "  }\n",
              "</style>\n",
              "\n",
              "      <script>\n",
              "        async function quickchart(key) {\n",
              "          const quickchartButtonEl =\n",
              "            document.querySelector('#' + key + ' button');\n",
              "          quickchartButtonEl.disabled = true;  // To prevent multiple clicks.\n",
              "          quickchartButtonEl.classList.add('colab-df-spinner');\n",
              "          try {\n",
              "            const charts = await google.colab.kernel.invokeFunction(\n",
              "                'suggestCharts', [key], {});\n",
              "          } catch (error) {\n",
              "            console.error('Error during call to suggestCharts:', error);\n",
              "          }\n",
              "          quickchartButtonEl.classList.remove('colab-df-spinner');\n",
              "          quickchartButtonEl.classList.add('colab-df-quickchart-complete');\n",
              "        }\n",
              "        (() => {\n",
              "          let quickchartButtonEl =\n",
              "            document.querySelector('#df-615440c8-0cd4-40dd-a417-f502e4c727ed button');\n",
              "          quickchartButtonEl.style.display =\n",
              "            google.colab.kernel.accessAllowed ? 'block' : 'none';\n",
              "        })();\n",
              "      </script>\n",
              "    </div>\n",
              "\n",
              "    </div>\n",
              "  </div>\n"
            ],
            "application/vnd.google.colaboratory.intrinsic+json": {
              "type": "dataframe",
              "repr_error": "Out of range float values are not JSON compliant: inf"
            }
          },
          "metadata": {}
        }
      ]
    },
    {
      "cell_type": "code",
      "source": [
        "# Common IPOs in both lists\n",
        "common_names = set(top_listing['IPO_Name']).intersection(set(top_cmp['IPO_Name']))\n",
        "print(\"\\nIPOs that are top performers in BOTH:\", common_names)"
      ],
      "metadata": {
        "colab": {
          "base_uri": "https://localhost:8080/"
        },
        "id": "5gK4tiiQ8kmu",
        "outputId": "b2a8374b-5111-478a-9b0a-7a76aafcd0cc"
      },
      "execution_count": 12,
      "outputs": [
        {
          "output_type": "stream",
          "name": "stdout",
          "text": [
            "\n",
            "IPOs that are top performers in BOTH: {'Paras Defence'}\n"
          ]
        }
      ]
    },
    {
      "cell_type": "code",
      "source": [
        "# Highest Listing Gain %\n",
        "highest_listing = df.loc[df['Listing_Gains(%)'].idxmax()]\n",
        "\n",
        "# Highest CMP Gain %\n",
        "highest_cmp = df.loc[df['CMP_Gains(%)'].idxmax()]\n",
        "\n",
        "print(\"Highest Listing Gain % IPO:\")\n",
        "print(highest_listing[['IPO_Name', 'Listing_Gains(%)']])\n",
        "print(\"\\nHighest CMP Gain % IPO:\")\n",
        "print(highest_cmp[['IPO_Name', 'CMP_Gains(%)']])"
      ],
      "metadata": {
        "colab": {
          "base_uri": "https://localhost:8080/"
        },
        "id": "QGY71tQgJpNm",
        "outputId": "c95af4d1-7832-4c00-8683-78fe0aa1c79d"
      },
      "execution_count": 34,
      "outputs": [
        {
          "output_type": "stream",
          "name": "stdout",
          "text": [
            "Highest Listing Gain % IPO:\n",
            "IPO_Name            Sigachi Ind\n",
            "Listing_Gains(%)          270.4\n",
            "Name: 20, dtype: object\n",
            "\n",
            "Highest CMP Gain % IPO:\n",
            "IPO_Name        Mishra Dhatu Ni\n",
            "CMP_Gains(%)                inf\n",
            "Name: 99, dtype: object\n"
          ]
        }
      ]
    },
    {
      "cell_type": "code",
      "source": [
        "# # Bar Chart for Common IPOs\n",
        "# common_df = df[df['IPO_Name'].isin(common_names)].copy()\n",
        "# x = np.arange(len(common_df))\n",
        "# bar_width = 0.35\n",
        "\n",
        "# plt.figure(figsize=(12,6))\n",
        "# plt.bar(x - bar_width/2, common_df['Listing_Gains(%)'], width=bar_width, label='Listing Gains (%)')\n",
        "# plt.bar(x + bar_width/2, common_df['CMP_Gains(%)'], width=bar_width, label='CMP Gains (%)')\n",
        "# plt.xticks(x, common_df['IPO_Name'], rotation=45, ha='right')\n",
        "# plt.ylabel('Returns (%)')\n",
        "# plt.title('Listing vs CMP Gains for Top IPOs')\n",
        "# plt.legend()\n",
        "# plt.tight_layout()\n",
        "# plt.show()"
      ],
      "metadata": {
        "id": "zs0-s5hx8qeX"
      },
      "execution_count": 21,
      "outputs": []
    },
    {
      "cell_type": "markdown",
      "source": [
        "## 📝 Conclusion"
      ],
      "metadata": {
        "id": "Q9U-zGBdDbUF"
      }
    },
    {
      "cell_type": "code",
      "source": [
        "# Summary Stats\n",
        "print(\"Total IPOs analyzed:\", len(df))\n",
        "print(\"Total Outperformers:\", df['Outperformed'].sum())\n",
        "print(f\"{df['IPO_Overall_Profit'].mean() * 100:.2f}% of IPOs are still trading above issue price.\")"
      ],
      "metadata": {
        "colab": {
          "base_uri": "https://localhost:8080/"
        },
        "id": "aheKiA2e8sla",
        "outputId": "30c0e214-7d26-435f-e430-eb403300aa76"
      },
      "execution_count": 14,
      "outputs": [
        {
          "output_type": "stream",
          "name": "stdout",
          "text": [
            "Total IPOs analyzed: 302\n",
            "Total Outperformers: 44\n",
            "32.78% of IPOs are still trading above issue price.\n"
          ]
        }
      ]
    },
    {
      "cell_type": "markdown",
      "source": [
        "## 📝 Conclusion\n",
        "\n",
        "- **Sigachi Ind** had the highest listing gain among all IPOs analyzed.\n",
        "- **Mishra Dhatu** showed the highest CMP gain over its issue price.\n",
        "- IPOs with small issue sizes tended to outperform larger ones.\n",
        "\n",
        "Further study can explore sector-wise performance, market conditions during IPO, etc."
      ],
      "metadata": {
        "id": "q_rVrj53DmI_"
      }
    },
    {
      "cell_type": "code",
      "source": [],
      "metadata": {
        "id": "1Z8hk5bPI8fG"
      },
      "execution_count": null,
      "outputs": []
    }
  ]
}